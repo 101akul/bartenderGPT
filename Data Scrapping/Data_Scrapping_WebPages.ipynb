{
  "nbformat": 4,
  "nbformat_minor": 0,
  "metadata": {
    "colab": {
      "provenance": []
    },
    "kernelspec": {
      "name": "python3",
      "display_name": "Python 3"
    },
    "language_info": {
      "name": "python"
    }
  },
  "cells": [
    {
      "cell_type": "code",
      "execution_count": null,
      "metadata": {
        "id": "mHN3mpvVm4mC"
      },
      "outputs": [],
      "source": [
        "from bs4 import BeautifulSoup\n",
        "import requests\n",
        "import pandas as pd\n",
        "from tqdm import tqdm"
      ]
    },
    {
      "cell_type": "code",
      "source": [
        "def getCocktails(urlBase, lastPage):\n",
        "  url = urlBase\n",
        "\n",
        "  page = requests.get(url, headers = {'User-Agent': 'My User Agent 1.0'})\n",
        "\n",
        "  soup = BeautifulSoup(page.text, 'html')\n",
        "\n",
        "  temp = soup.find_all(\"h3\", {\"class\": \"entry-title td-module-title\"})\n",
        "\n",
        "  data = [[t.text, t.a[\"href\"]] for t in temp]\n",
        "\n",
        "  for i in tqdm(range(2,lastPage+1)):\n",
        "    url = urlBase + \"/page/\" + str(i) + '/'\n",
        "\n",
        "    page = requests.get(url, headers = {'User-Agent': 'My User Agent 1.0'})\n",
        "\n",
        "    soup = BeautifulSoup(page.text, 'html')\n",
        "\n",
        "    temp = soup.find_all(\"h3\", {\"class\": \"entry-title td-module-title\"})\n",
        "    temp = temp[3:6]\n",
        "    data.extend([[t.text, t.a[\"href\"]] for t in temp])\n",
        "\n",
        "  df = pd.DataFrame(data, columns=['Name', 'URL'])\n",
        "  return df"
      ],
      "metadata": {
        "id": "vON0Iyeu6OAX"
      },
      "execution_count": null,
      "outputs": []
    },
    {
      "cell_type": "code",
      "source": [
        "url1 = 'https://www.theeducatedbarfly.com/category/recipes/cocktails/master-the-classics/'\n",
        "page1 = 37\n",
        "\n",
        "url2 = 'https://www.theeducatedbarfly.com/category/recipes/cocktails/modern-cocktails/'\n",
        "page2 = 151\n",
        "\n",
        "url3 = 'https://www.theeducatedbarfly.com/category/recipes/cocktails/originals/'\n",
        "page3 = 13\n",
        "\n",
        "temp1 = getCocktails(url1, page1)\n",
        "\n",
        "temp2 = getCocktails(url2, page2)\n",
        "temp3 = getCocktails(url3, page3)\n",
        "\n",
        "temp1 = temp1.append(temp2)\n",
        "temp1 = temp1.append(temp3)\n",
        "temp1 = temp1.drop_duplicates()\n",
        "df = temp1.reset_index(drop=True)\n",
        "print(df.head())\n",
        "\n",
        "df.to_csv('file1.csv')"
      ],
      "metadata": {
        "colab": {
          "base_uri": "https://localhost:8080/"
        },
        "id": "yAvhugHTnC5j",
        "outputId": "ddc486fe-b77c-48a3-f97f-99b224cf2282"
      },
      "execution_count": null,
      "outputs": [
        {
          "output_type": "stream",
          "name": "stderr",
          "text": [
            "100%|██████████| 36/36 [00:14<00:00,  2.51it/s]\n",
            "100%|██████████| 150/150 [04:28<00:00,  1.79s/it]\n",
            "100%|██████████| 12/12 [00:22<00:00,  1.86s/it]"
          ]
        },
        {
          "output_type": "stream",
          "name": "stdout",
          "text": [
            "             Name                                               URL\n",
            "0  Clover Club #1  https://www.theeducatedbarfly.com/clover-club-1/\n",
            "1  Clover Club #2  https://www.theeducatedbarfly.com/clover-club-2/\n",
            "2       Macunaíma      https://www.theeducatedbarfly.com/macunaima/\n",
            "3      Caipirinha     https://www.theeducatedbarfly.com/caipirinha/\n",
            "4     Batida Rosa    https://www.theeducatedbarfly.com/batida-rosa/\n"
          ]
        },
        {
          "output_type": "stream",
          "name": "stderr",
          "text": [
            "\n",
            "<ipython-input-7-f3579c9616ca>:15: FutureWarning: The frame.append method is deprecated and will be removed from pandas in a future version. Use pandas.concat instead.\n",
            "  temp1 = temp1.append(temp2)\n",
            "<ipython-input-7-f3579c9616ca>:16: FutureWarning: The frame.append method is deprecated and will be removed from pandas in a future version. Use pandas.concat instead.\n",
            "  temp1 = temp1.append(temp3)\n"
          ]
        }
      ]
    }
  ]
}