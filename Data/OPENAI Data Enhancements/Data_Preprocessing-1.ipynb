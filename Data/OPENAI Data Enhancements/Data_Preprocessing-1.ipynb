{
  "cells": [
    {
      "cell_type": "code",
      "execution_count": null,
      "metadata": {
        "colab": {
          "base_uri": "https://localhost:8080/"
        },
        "id": "1J1ynPV1SzR2",
        "outputId": "424cca80-c8e9-4721-9b5b-0b8ef6dcebc6"
      },
      "outputs": [
        {
          "name": "stdout",
          "output_type": "stream",
          "text": [
            "Requirement already satisfied: openai in /usr/local/lib/python3.10/dist-packages (0.28.1)\n",
            "Requirement already satisfied: requests>=2.20 in /usr/local/lib/python3.10/dist-packages (from openai) (2.31.0)\n",
            "Requirement already satisfied: tqdm in /usr/local/lib/python3.10/dist-packages (from openai) (4.66.1)\n",
            "Requirement already satisfied: aiohttp in /usr/local/lib/python3.10/dist-packages (from openai) (3.8.5)\n",
            "Requirement already satisfied: charset-normalizer<4,>=2 in /usr/local/lib/python3.10/dist-packages (from requests>=2.20->openai) (3.2.0)\n",
            "Requirement already satisfied: idna<4,>=2.5 in /usr/local/lib/python3.10/dist-packages (from requests>=2.20->openai) (3.4)\n",
            "Requirement already satisfied: urllib3<3,>=1.21.1 in /usr/local/lib/python3.10/dist-packages (from requests>=2.20->openai) (2.0.4)\n",
            "Requirement already satisfied: certifi>=2017.4.17 in /usr/local/lib/python3.10/dist-packages (from requests>=2.20->openai) (2023.7.22)\n",
            "Requirement already satisfied: attrs>=17.3.0 in /usr/local/lib/python3.10/dist-packages (from aiohttp->openai) (23.1.0)\n",
            "Requirement already satisfied: multidict<7.0,>=4.5 in /usr/local/lib/python3.10/dist-packages (from aiohttp->openai) (6.0.4)\n",
            "Requirement already satisfied: async-timeout<5.0,>=4.0.0a3 in /usr/local/lib/python3.10/dist-packages (from aiohttp->openai) (4.0.3)\n",
            "Requirement already satisfied: yarl<2.0,>=1.0 in /usr/local/lib/python3.10/dist-packages (from aiohttp->openai) (1.9.2)\n",
            "Requirement already satisfied: frozenlist>=1.1.1 in /usr/local/lib/python3.10/dist-packages (from aiohttp->openai) (1.4.0)\n",
            "Requirement already satisfied: aiosignal>=1.1.2 in /usr/local/lib/python3.10/dist-packages (from aiohttp->openai) (1.3.1)\n"
          ]
        }
      ],
      "source": [
        "import pandas as pd\n",
        "import json\n",
        "import os\n",
        "import random\n",
        "!pip install openai\n",
        "import openai\n",
        "openai.api_key = #OPEN AI Key Here"
      ]
    },
    {
      "cell_type": "code",
      "execution_count": null,
      "metadata": {
        "id": "pVoWHjlGTE3n"
      },
      "outputs": [],
      "source": [
        "df = pd.read_csv('data.csv')\n",
        "df = df.drop('Unnamed: 0', axis=1)\n",
        "json_data = df.to_json(orient='records') # convert dataframe to json string\n",
        "list_data = json.loads(json_data) # convert json string to python list\n",
        "\n",
        "qs = [\"\\nCreate a 1 sentence question to get the bartender to reproduce this cocktail or one similar to it, phrase it as emphasizing different flavors you enjoy\",\n",
        "      \"\\nCreate a 1 sentence question to get the bartender to reproduce this cocktail or one similar to it, phrase it as emphasizing different flavors you enjoy\",\n",
        "      \"\\nCreate a 1 sentence question to get the bartender to reproduce this cocktail or one similar to it, phrase it as emphasizing different flavors you enjoy\",\n",
        "      \"\\nCreate a 1 sentence question to get the bartender to reproduce this cocktail or one similar to it, phrase it as emphasizing different flavors you enjoy\",\n",
        "      \"\\nCreate a 1 sentence question to get the bartender to reproduce this cocktail or one similar to it, phrase it as emphasizing different flavors you enjoy\",\n",
        "      \"\\nCreate a 1 sentence question to get the bartender to reproduce this cocktail or one similar to it, phrase it as emphasizing the technique\",\n",
        "      \"\\nCreate a 1 sentence question to get the bartender to reproduce this cocktail or one similar to it, phrase it as emphasizing the spirit and history\",\n",
        "      \"\\nAsk for the cocktail by the name\",\n",
        "      \"\\nAsk for the cocktail by the name\",\n",
        "      \"\\nAsk for the cocktail by the name\"]"
      ]
    },
    {
      "cell_type": "code",
      "execution_count": null,
      "metadata": {
        "id": "9_w-8G195zbA"
      },
      "outputs": [],
      "source": [
        "questions = []\n",
        "for i in list_data:\n",
        "  context = json.dumps(i) + random.choice(qs)\n",
        "  response = openai.ChatCompletion.create(\n",
        "  model=\"gpt-3.5-turbo\",\n",
        "  messages=[\n",
        "    {\n",
        "      \"role\": \"system\",\n",
        "      \"content\": \"Your name is John and you are a cocktail enthusiast. Pretend you are a customer at a modern speakeasy who does not know what cocktail they want. You will be given information about a cocktail you like in a JSON file and your goal is to ask to ask the bartender a question to recreate that cocktail and focusing on the flavors included in the cocktail.\\n\"\n",
        "    },\n",
        "    {\n",
        "      \"role\": \"user\",\n",
        "      \"content\": context\n",
        "    }\n",
        "  ],\n",
        "  temperature=0.8,\n",
        "  max_tokens=256,\n",
        "  top_p=0.85,\n",
        "  frequency_penalty=0,\n",
        "  presence_penalty=0\n",
        "  )\n",
        "  questions.append(response.choices[0].message.content)\n",
        "df['Question'] = questions"
      ]
    },
    {
      "cell_type": "code",
      "execution_count": null,
      "metadata": {
        "colab": {
          "base_uri": "https://localhost:8080/"
        },
        "id": "E8D6qEgSDn1o",
        "outputId": "23a5c4d1-6d68-4641-a6b7-898b9afe7b87"
      },
      "outputs": [
        {
          "name": "stdout",
          "output_type": "stream",
          "text": [
            "             Name                                               URL  \\\n",
            "0  Clover Club #1  https://www.theeducatedbarfly.com/clover-club-1/   \n",
            "1  Clover Club #2  https://www.theeducatedbarfly.com/clover-club-2/   \n",
            "2       Macunaíma      https://www.theeducatedbarfly.com/macunaima/   \n",
            "3      Caipirinha     https://www.theeducatedbarfly.com/caipirinha/   \n",
            "4     Batida Rosa    https://www.theeducatedbarfly.com/batida-rosa/   \n",
            "\n",
            "                                         Description  \\\n",
            "0  The Clover Club cocktail was the signature coc...   \n",
            "1                             Recommended Bar Tools:   \n",
            "2  The Macunaíma was created by Brazilian Bartend...   \n",
            "3  The Caipirinha is thought to have originated i...   \n",
            "4  I wasn’t able to find too much on the Batida R...   \n",
            "\n",
            "                                         Ingredients  \\\n",
            "0  - 2 oz Gin\\n- 3/4 oz Lemon Juice\\n- 3/4 oz Sim...   \n",
            "1  - 2 oz Gin\\n- 3/4 oz Raspberry Syrup\\n- 3/4 oz...   \n",
            "2  - 2 oz Cachaca Balm Aged\\n- 1/4 oz Fernet\\n- 3...   \n",
            "3  - 1 Lime (cut into wedges)\\n- 2 tsp Sugar\\n- 2...   \n",
            "4  - 1 1/2 oz Cachaça\\n- 3/4 oz Pineapple Juice\\n...   \n",
            "\n",
            "                                        Instructions  \\\n",
            "0  1. Add all ingredients into the tin except egg...   \n",
            "1  1. Add all ingredients to a shaking set .\\n2. ...   \n",
            "2  1. Add all ingredients to a shaking tin.\\n2. S...   \n",
            "3  1. First cut the white pith away from the lime...   \n",
            "4  1. Add all ingredients minus the soda water in...   \n",
            "\n",
            "                                            Keywords  \\\n",
            "0  1800s, 1900s, clover club, Clover Club #1, egg...   \n",
            "1  Clover Club #2, egg white, Gin, lemon juice, r...   \n",
            "2  Arnaldo Hirai, Balm Aged Cachaca, fernet, lime...   \n",
            "3       cachaca, Caipirinha, lime, lime wheel, sugar   \n",
            "4  Batida Rosa, cachaca, grenadine, lemon juice, ...   \n",
            "\n",
            "                                            Question  \n",
            "0  Could you recreate a cocktail for me that invo...  \n",
            "1  Could you recommend a cocktail that highlights...  \n",
            "2  Can you recommend a cocktail that combines the...  \n",
            "3  Excuse me, bartender. Could I please have a Ca...  \n",
            "4  What cocktail can you make that combines the f...  \n"
          ]
        }
      ],
      "source": [
        "print(df.head())\n",
        "df.to_csv('out.csv')"
      ]
    }
  ],
  "metadata": {
    "colab": {
      "provenance": []
    },
    "kernelspec": {
      "display_name": "Python 3",
      "name": "python3"
    },
    "language_info": {
      "name": "python"
    }
  },
  "nbformat": 4,
  "nbformat_minor": 0
}
